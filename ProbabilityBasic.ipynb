{
  "nbformat": 4,
  "nbformat_minor": 0,
  "metadata": {
    "colab": {
      "provenance": [],
      "authorship_tag": "ABX9TyOS0EjidWPFjBzAFkBQiFJ2",
      "include_colab_link": true
    },
    "kernelspec": {
      "name": "python3",
      "display_name": "Python 3"
    },
    "language_info": {
      "name": "python"
    }
  },
  "cells": [
    {
      "cell_type": "markdown",
      "metadata": {
        "id": "view-in-github",
        "colab_type": "text"
      },
      "source": [
        "<a href=\"https://colab.research.google.com/github/tuananh1006/Probability/blob/main/ProbabilityBasic.ipynb\" target=\"_parent\"><img src=\"https://colab.research.google.com/assets/colab-badge.svg\" alt=\"Open In Colab\"/></a>"
      ]
    },
    {
      "cell_type": "markdown",
      "source": [
        "### 1. Basic"
      ],
      "metadata": {
        "id": "7YU2lw0ezR69"
      }
    },
    {
      "cell_type": "code",
      "source": [
        "P_A=0.4\n",
        "P_B=0.6\n"
      ],
      "metadata": {
        "id": "Apq_yXWPzZG3"
      },
      "execution_count": 1,
      "outputs": []
    },
    {
      "cell_type": "code",
      "source": [
        "#P(AB)\n",
        "P_AB=P_A*P_B ##Independent\n",
        "\n",
        "#P(A OR B)\n",
        "P_A_OR_B=P_A+P_B-P_AB\n",
        "\n",
        "#P(A|B)\n",
        "P_A_given_B=P_AB/P_B\n",
        "#P(B|A)\n",
        "P_B_given_A=P_A_given_B*P_B/P_A\n",
        "\n",
        "#P(A)=P(A|B)*P(B)+P(A|-B)*P(-B)\n"
      ],
      "metadata": {
        "id": "0H8pzFZEzetx"
      },
      "execution_count": 2,
      "outputs": []
    },
    {
      "cell_type": "code",
      "source": [
        "# Xét nghiệm COVID-19:\n",
        "\n",
        "# - Chính xác trên người bị COVID-19 là 90% (độ nhạy -sensitivity)\n",
        "# - Chính xác trên người không bị covid-19 là 99% (độ đặc hiệu -specificity)\n",
        "# - Tỉ lệ người bị Covid-19 ở HCM là 3%\n",
        "\n",
        "# Hỏi test ra dương tính thì xác suất bị COVID-19 là bao nhiêu %"
      ],
      "metadata": {
        "id": "zKx3dnZO0iVT"
      },
      "execution_count": 3,
      "outputs": []
    },
    {
      "cell_type": "code",
      "source": [
        "#Solution\n",
        "#P(Covid|DuongTinh)=P(DuongTinh|Covid)*P(Covid) / ( P(DuongTinh|Covid)*P(Covid) +P(DuongTinh|-Covid) * P(-Covid))\n",
        "\n",
        "P_DuongTinh_Covid=0.9\n",
        "P_Covid=0.03\n",
        "P_DuongTinh_NotCovid=0.01\n",
        "P_NotCovid=1-P_Covid\n",
        "\n",
        "P_Covid_DuongTinh=(P_DuongTinh_Covid*P_Covid)/(P_DuongTinh_Covid*P_Covid+P_DuongTinh_NotCovid*P_NotCovid)\n",
        "P_Covid_DuongTinh\n",
        "#"
      ],
      "metadata": {
        "colab": {
          "base_uri": "https://localhost:8080/"
        },
        "id": "rnadp2Ou0jrq",
        "outputId": "cbd84c05-9066-49fb-b547-3da41b3059ec"
      },
      "execution_count": 4,
      "outputs": [
        {
          "output_type": "execute_result",
          "data": {
            "text/plain": [
              "0.7356948228882835"
            ]
          },
          "metadata": {},
          "execution_count": 4
        }
      ]
    },
    {
      "cell_type": "markdown",
      "source": [
        "### 2. Random Variables"
      ],
      "metadata": {
        "id": "RUW0KOZD2beK"
      }
    },
    {
      "cell_type": "code",
      "source": [
        "#Discrete\n",
        "d_value=[1,2,3,4,5,6,7,8,9,10]\n",
        "d_prob=[1/10,2/10,3/10,4/10,5/10,6/10,5/10,4/10,3/10,2/10]"
      ],
      "metadata": {
        "id": "Xtu4fMwb2dT1"
      },
      "execution_count": 5,
      "outputs": []
    },
    {
      "cell_type": "code",
      "source": [
        "Expectation=0\n",
        "Expectation=sum(value*p for value,p in zip(d_value,d_prob))"
      ],
      "metadata": {
        "id": "JvoCm7Um2mdk"
      },
      "execution_count": 6,
      "outputs": []
    },
    {
      "cell_type": "code",
      "source": [
        "Expectation"
      ],
      "metadata": {
        "colab": {
          "base_uri": "https://localhost:8080/"
        },
        "id": "fRg4ezLaHsOY",
        "outputId": "3c710209-1cb2-4a7a-e7e1-1642bb0a3057"
      },
      "execution_count": 7,
      "outputs": [
        {
          "output_type": "execute_result",
          "data": {
            "text/plain": [
              "20.5"
            ]
          },
          "metadata": {},
          "execution_count": 7
        }
      ]
    },
    {
      "cell_type": "code",
      "source": [
        "Variance=0\n",
        "Variance=sum((value-Expectation)**2 for value in d_value)"
      ],
      "metadata": {
        "id": "rhYhZN9EHtmf"
      },
      "execution_count": 8,
      "outputs": []
    },
    {
      "cell_type": "code",
      "source": [
        "Variance"
      ],
      "metadata": {
        "colab": {
          "base_uri": "https://localhost:8080/"
        },
        "id": "OCMuQfO1IUt1",
        "outputId": "c5ea9ae9-ea95-4ecd-ef86-df7d6e4d7120"
      },
      "execution_count": 9,
      "outputs": [
        {
          "output_type": "execute_result",
          "data": {
            "text/plain": [
              "2332.5"
            ]
          },
          "metadata": {},
          "execution_count": 9
        }
      ]
    },
    {
      "cell_type": "code",
      "source": [
        "#E[X^2]=Mean^2 + Variance^2\n",
        "E_X_2=Expectation**2+Variance**2\n",
        "E_X_2"
      ],
      "metadata": {
        "colab": {
          "base_uri": "https://localhost:8080/"
        },
        "id": "kiMek8zMIVmu",
        "outputId": "2509116a-fa83-4d6f-f7a7-f20f01245ff9"
      },
      "execution_count": 11,
      "outputs": [
        {
          "output_type": "execute_result",
          "data": {
            "text/plain": [
              "5440976.5"
            ]
          },
          "metadata": {},
          "execution_count": 11
        }
      ]
    },
    {
      "cell_type": "code",
      "source": [
        "#E[X|Y=y]=x*p(x|y)"
      ],
      "metadata": {
        "id": "4NfnfLcNhmUH"
      },
      "execution_count": 12,
      "outputs": []
    },
    {
      "cell_type": "code",
      "source": [
        "#E[E[X|Y=y]]=E[X]"
      ],
      "metadata": {
        "id": "EXgS0Y5VmUAu"
      },
      "execution_count": 13,
      "outputs": []
    },
    {
      "cell_type": "markdown",
      "source": [
        "### 3.Distribution\n"
      ],
      "metadata": {
        "id": "LxBwSrsHy2Zp"
      }
    },
    {
      "cell_type": "code",
      "source": [
        "#Bernuli Distribution\n",
        "#P(X=1)=theta\n",
        "#P(X=0)=1-theta\n",
        "#P(X=i)=theta ^x * (1-theta)^(1-x)"
      ],
      "metadata": {
        "id": "7TGMeZK8y4G_"
      },
      "execution_count": 15,
      "outputs": []
    },
    {
      "cell_type": "code",
      "source": [
        "# Binary Problem\n",
        "# Scenario:\n",
        "\n",
        "# A basketball player has a free throw success rate of 80%. They are about to attempt 5 free throws.\n",
        "\n",
        "# Questions:\n",
        "\n",
        "# What is the probability that they make exactly 3 out of the 5 free throws?"
      ],
      "metadata": {
        "id": "8gcBL9nZz3dh"
      },
      "execution_count": 21,
      "outputs": []
    },
    {
      "cell_type": "code",
      "source": [
        "#1.\n",
        "from scipy.special import comb\n",
        "\n",
        "n = 5  # Tổng số lần thử\n",
        "k = 3  # Số lần thành công\n",
        "p = 0.8  # Xác suất thành công\n",
        "\n",
        "# Tính xác suất\n",
        "xacs_xuat = comb(n, k) * p**k * (1 - p)**(n - k)\n",
        "\n",
        "print(xacs_xuat)  # In ra kết quả"
      ],
      "metadata": {
        "colab": {
          "base_uri": "https://localhost:8080/"
        },
        "id": "iY656Ts61MJZ",
        "outputId": "31658e28-1e8a-4b21-ca6c-73714cf902e7"
      },
      "execution_count": 22,
      "outputs": [
        {
          "output_type": "stream",
          "name": "stdout",
          "text": [
            "0.20479999999999993\n"
          ]
        }
      ]
    },
    {
      "cell_type": "code",
      "source": [],
      "metadata": {
        "id": "Ctt3HsSm2ruj"
      },
      "execution_count": null,
      "outputs": []
    }
  ]
}